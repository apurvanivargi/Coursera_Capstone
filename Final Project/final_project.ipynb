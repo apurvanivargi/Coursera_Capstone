{
 "cells": [
  {
   "cell_type": "markdown",
   "metadata": {},
   "source": [
    "# Introduction"
   ]
  },
  {
   "cell_type": "markdown",
   "metadata": {},
   "source": [
    "In this notebook we have studied the demographics of Boston city to predict the airbnb prices.        \n",
    "We will analyze the neighbourhoods data to understand patterns between listings.                   \n",
    "This would help to understand an optimal location to start a list on airbnb.                \n",
    "We will study various factors affecting the pricing and which are the trending areas and why.        \n",
    "We will use foresquare api to plot the locations.           "
   ]
  },
  {
   "cell_type": "markdown",
   "metadata": {},
   "source": [
    "# Data Sources"
   ]
  },
  {
   "cell_type": "markdown",
   "metadata": {},
   "source": [
    "Boston neighborhoods data : https://www.kaggle.com/yingzhou474/boston-neighborhoods-geojson    \n",
    "Boston Airbnb Data : kaggle.com/airbnb/boston#listings.csv            "
   ]
  },
  {
   "cell_type": "code",
   "execution_count": 3,
   "metadata": {},
   "outputs": [],
   "source": [
    "%config IPCompleter.greedy=True"
   ]
  }
 ],
 "metadata": {
  "kernelspec": {
   "display_name": "Python 3",
   "language": "python",
   "name": "python3"
  },
  "language_info": {
   "codemirror_mode": {
    "name": "ipython",
    "version": 3
   },
   "file_extension": ".py",
   "mimetype": "text/x-python",
   "name": "python",
   "nbconvert_exporter": "python",
   "pygments_lexer": "ipython3",
   "version": "3.7.1"
  }
 },
 "nbformat": 4,
 "nbformat_minor": 2
}
